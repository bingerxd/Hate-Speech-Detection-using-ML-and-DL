{
 "cells": [
  {
   "cell_type": "code",
   "execution_count": 2,
   "metadata": {
    "executionInfo": {
     "elapsed": 26449,
     "status": "ok",
     "timestamp": 1748548387122,
     "user": {
      "displayName": "Patryk Zabawa",
      "userId": "16987957885557368905"
     },
     "user_tz": -120
    },
    "id": "85_wY7CmD0iP"
   },
   "outputs": [],
   "source": [
    "!pip install fasttext seaborn --quiet\n",
    "import numpy as np\n",
    "import pandas as pd\n",
    "import matplotlib.pyplot as plt\n",
    "import seaborn as sns\n",
    "\n",
    "import fasttext\n",
    "import fasttext.util\n",
    "import os\n",
    "from sklearn.model_selection import train_test_split\n",
    "from sklearn.metrics import (\n",
    "    accuracy_score, precision_score, recall_score,\n",
    "    f1_score, roc_auc_score, confusion_matrix,\n",
    "    classification_report, roc_curve\n",
    ")\n",
    "from tensorflow.keras.models import Sequential\n",
    "from tensorflow.keras.layers import LSTM, Bidirectional, Dense, Dropout, Masking, Input\n",
    "from tensorflow.keras.callbacks import EarlyStopping\n",
    "from tensorflow.keras.preprocessing.text import text_to_word_sequence\n",
    "from tensorflow.keras.preprocessing.sequence import pad_sequences"
   ]
  },
  {
   "cell_type": "code",
   "execution_count": null,
   "metadata": {
    "colab": {
     "base_uri": "https://localhost:8080/",
     "height": 73
    },
    "executionInfo": {
     "elapsed": 913012,
     "status": "ok",
     "timestamp": 1748548201717,
     "user": {
      "displayName": "Patryk Zabawa",
      "userId": "16987957885557368905"
     },
     "user_tz": -120
    },
    "id": "7O7EZxwGJdlT",
    "outputId": "1376a4fd-4a26-4b3b-e31e-eaecb35cf516"
   },
   "outputs": [
    {
     "name": "stdout",
     "output_type": "stream",
     "text": [
      "Downloading https://dl.fbaipublicfiles.com/fasttext/vectors-crawl/cc.pl.300.bin.gz\n",
      "\n"
     ]
    },
    {
     "data": {
      "application/vnd.google.colaboratory.intrinsic+json": {
       "type": "string"
      },
      "text/plain": [
       "'cc.pl.300.bin'"
      ]
     },
     "execution_count": 2,
     "metadata": {},
     "output_type": "execute_result"
    }
   ],
   "source": [
    "fasttext.util.download_model('pl', if_exists='ignore')"
   ]
  },
  {
   "cell_type": "code",
   "execution_count": 3,
   "metadata": {
    "executionInfo": {
     "elapsed": 42840,
     "status": "ok",
     "timestamp": 1748548429969,
     "user": {
      "displayName": "Patryk Zabawa",
      "userId": "16987957885557368905"
     },
     "user_tz": -120
    },
    "id": "f16_q_g9Jfk0"
   },
   "outputs": [],
   "source": [
    "ft_model = fasttext.load_model('cc.pl.300.bin')"
   ]
  },
  {
   "cell_type": "code",
   "execution_count": null,
   "metadata": {
    "executionInfo": {
     "elapsed": 7,
     "status": "ok",
     "timestamp": 1748548429971,
     "user": {
      "displayName": "Patryk Zabawa",
      "userId": "16987957885557368905"
     },
     "user_tz": -120
    },
    "id": "2jBTj8ZpJo5r"
   },
   "outputs": [],
   "source": [
    "def get_sequence_ft_vectors(text, max_len=25):\n",
    "    words = text_to_word_sequence(str(text), lower=False)\n",
    "    vectors = [ft_model.get_word_vector(word) for word in words[:max_len]]\n",
    "    return vectors"
   ]
  },
  {
   "cell_type": "code",
   "execution_count": null,
   "metadata": {
    "executionInfo": {
     "elapsed": 5,
     "status": "ok",
     "timestamp": 1748548429971,
     "user": {
      "displayName": "Patryk Zabawa",
      "userId": "16987957885557368905"
     },
     "user_tz": -120
    },
    "id": "X0ZU2HveJsNe"
   },
   "outputs": [],
   "source": [
    "def prepare_sequence_data_from_single_file(data_path, max_len=25, test_size=0.2, random_state=42):\n",
    "    df = pd.read_csv(data_path)\n",
    "    X = [get_sequence_ft_vectors(text, max_len=max_len) for text in df['Text']]\n",
    "    y = df['Class'].values\n",
    "\n",
    "    X_pad = pad_sequences(X, maxlen=max_len, dtype='float32', padding='post', truncating='post')\n",
    "\n",
    "    X_train, X_test, y_train, y_test = train_test_split(\n",
    "        X_pad, y, test_size=test_size, random_state=random_state, stratify=y\n",
    "    )\n",
    "\n",
    "    print(f\"Train shape: {X_train.shape}, Test shape: {X_test.shape}\")\n",
    "    print(f\"Class distribution: {np.bincount(y)}\")\n",
    "\n",
    "    return X_train, y_train, X_test, y_test\n"
   ]
  },
  {
   "cell_type": "code",
   "execution_count": null,
   "metadata": {
    "executionInfo": {
     "elapsed": 6,
     "status": "ok",
     "timestamp": 1748548429973,
     "user": {
      "displayName": "Patryk Zabawa",
      "userId": "16987957885557368905"
     },
     "user_tz": -120
    },
    "id": "vzN-vcx-Js6v"
   },
   "outputs": [],
   "source": [
    "def train_and_evaluate_bilstm(X_train, y_train, X_test, y_test,\n",
    "                               title=\"LSTM\",\n",
    "                               max_len=25, embedding_dim=300,\n",
    "                               lstm_units=128, batch_size=64, epochs=15,\n",
    "                               save_dir=\"results/bilstm_model\"):\n",
    "\n",
    "    os.makedirs(save_dir, exist_ok=True)\n",
    "\n",
    "    model = Sequential()\n",
    "    model.add(Input(shape=(max_len, embedding_dim)))\n",
    "    model.add(Masking(mask_value=0.0))\n",
    "    model.add(Bidirectional(LSTM(lstm_units)))\n",
    "    model.add(Dropout(0.3))\n",
    "    model.add(Dense(1, activation='sigmoid'))\n",
    "\n",
    "    model.compile(optimizer='adam', loss='binary_crossentropy', metrics=['accuracy', 'Precision', 'Recall', 'AUC'])\n",
    "\n",
    "    early_stop = EarlyStopping(monitor='val_loss', patience=3, restore_best_weights=True)\n",
    "\n",
    "    history = model.fit(\n",
    "        X_train, y_train,\n",
    "        validation_split=0.2,\n",
    "        epochs=epochs,\n",
    "        batch_size=batch_size,\n",
    "        callbacks=[early_stop],\n",
    "        verbose=1\n",
    "    )\n",
    "\n",
    "    y_proba = model.predict(X_test).ravel()\n",
    "    y_pred = (y_proba > 0.5).astype(int)\n",
    "\n",
    "    acc = accuracy_score(y_test, y_pred)\n",
    "    prec = precision_score(y_test, y_pred)\n",
    "    rec = recall_score(y_test, y_pred)\n",
    "    f1 = f1_score(y_test, y_pred)\n",
    "    auc = roc_auc_score(y_test, y_proba)\n",
    "\n",
    "    print(f\"\\n📌 {title}\")\n",
    "    print(f\"Accuracy:  {acc:.4f}\")\n",
    "    print(f\"Precision: {prec:.4f}\")\n",
    "    print(f\"Recall:    {rec:.4f}\")\n",
    "    print(f\"F1-score:  {f1:.4f}\")\n",
    "    print(f\"ROC AUC:   {auc:.4f}\")\n",
    "    print(\"\\nClassification Report:\\n\", classification_report(y_test, y_pred, zero_division=0))\n",
    "\n",
    "    model_path = os.path.join(save_dir, \"bilstm_model.h5\")\n",
    "    model.save(model_path)\n",
    "    print(f\"✅ Model saved to: {model_path}\")\n",
    "\n",
    "    cm = confusion_matrix(y_test, y_pred)\n",
    "    plt.figure()\n",
    "    sns.heatmap(cm, annot=True, fmt='d', cmap='Purples')\n",
    "    plt.title(\"Confusion Matrix for LSTM - The Best Variant\")\n",
    "    plt.xlabel(\"Prediction\")\n",
    "    plt.ylabel(\"Actual\")\n",
    "    plt.savefig(os.path.join(save_dir, \"confusion_matrix.png\"))\n",
    "    plt.close()\n",
    "\n",
    "    fpr, tpr, _ = roc_curve(y_test, y_proba)\n",
    "    plt.figure()\n",
    "    plt.plot(fpr, tpr, label=f'AUC = {auc:.4f}')\n",
    "    plt.plot([0, 1], [0, 1], 'k--')\n",
    "    plt.xlabel(\"False Positive Rate\")\n",
    "    plt.ylabel(\"True Positive Rate\")\n",
    "    plt.title(\"ROC Curve for LSTM - The Best Varian\")\n",
    "    plt.legend()\n",
    "    plt.grid(True)\n",
    "    plt.savefig(os.path.join(save_dir, \"roc_curve.png\"))\n",
    "    plt.close()"
   ]
  },
  {
   "cell_type": "code",
   "execution_count": null,
   "metadata": {
    "executionInfo": {
     "elapsed": 11,
     "status": "ok",
     "timestamp": 1748548429979,
     "user": {
      "displayName": "Patryk Zabawa",
      "userId": "16987957885557368905"
     },
     "user_tz": -120
    },
    "id": "OGaVksDnJzkv"
   },
   "outputs": [],
   "source": [
    "def run_pipeline_bilstm_from_single_file(data_path, max_len=25):\n",
    "    X_train, y_train, X_test, y_test = prepare_sequence_data_from_single_file(data_path, max_len=max_len)\n",
    "    train_and_evaluate_bilstm(X_train, y_train, X_test, y_test)"
   ]
  },
  {
   "cell_type": "code",
   "execution_count": 8,
   "metadata": {
    "colab": {
     "base_uri": "https://localhost:8080/"
    },
    "executionInfo": {
     "elapsed": 725035,
     "status": "ok",
     "timestamp": 1748549442235,
     "user": {
      "displayName": "Patryk Zabawa",
      "userId": "16987957885557368905"
     },
     "user_tz": -120
    },
    "id": "-ni2RUHgJ2cD",
    "outputId": "48993450-6240-4762-d33c-dff6423a67a0"
   },
   "outputs": [
    {
     "name": "stdout",
     "output_type": "stream",
     "text": [
      "Train shape: (19199, 50, 300), Test shape: (4800, 50, 300)\n",
      "Class distribution: [12000 11999]\n",
      "Epoch 1/15\n",
      "\u001b[1m240/240\u001b[0m \u001b[32m━━━━━━━━━━━━━━━━━━━━\u001b[0m\u001b[37m\u001b[0m \u001b[1m80s\u001b[0m 303ms/step - AUC: 0.7819 - Precision: 0.7310 - Recall: 0.6441 - accuracy: 0.7121 - loss: 0.5582 - val_AUC: 0.8947 - val_Precision: 0.8524 - val_Recall: 0.7674 - val_accuracy: 0.8138 - val_loss: 0.4179\n",
      "Epoch 2/15\n",
      "\u001b[1m240/240\u001b[0m \u001b[32m━━━━━━━━━━━━━━━━━━━━\u001b[0m\u001b[37m\u001b[0m \u001b[1m78s\u001b[0m 323ms/step - AUC: 0.8952 - Precision: 0.8301 - Recall: 0.7911 - accuracy: 0.8182 - loss: 0.4102 - val_AUC: 0.9073 - val_Precision: 0.8706 - val_Recall: 0.7531 - val_accuracy: 0.8172 - val_loss: 0.4026\n",
      "Epoch 3/15\n",
      "\u001b[1m240/240\u001b[0m \u001b[32m━━━━━━━━━━━━━━━━━━━━\u001b[0m\u001b[37m\u001b[0m \u001b[1m76s\u001b[0m 315ms/step - AUC: 0.9121 - Precision: 0.8438 - Recall: 0.8298 - accuracy: 0.8394 - loss: 0.3785 - val_AUC: 0.9193 - val_Precision: 0.8310 - val_Recall: 0.8696 - val_accuracy: 0.8435 - val_loss: 0.3676\n",
      "Epoch 4/15\n",
      "\u001b[1m240/240\u001b[0m \u001b[32m━━━━━━━━━━━━━━━━━━━━\u001b[0m\u001b[37m\u001b[0m \u001b[1m93s\u001b[0m 363ms/step - AUC: 0.9240 - Precision: 0.8481 - Recall: 0.8419 - accuracy: 0.8481 - loss: 0.3509 - val_AUC: 0.9209 - val_Precision: 0.8400 - val_Recall: 0.8482 - val_accuracy: 0.8404 - val_loss: 0.3604\n",
      "Epoch 5/15\n",
      "\u001b[1m240/240\u001b[0m \u001b[32m━━━━━━━━━━━━━━━━━━━━\u001b[0m\u001b[37m\u001b[0m \u001b[1m131s\u001b[0m 316ms/step - AUC: 0.9348 - Precision: 0.8622 - Recall: 0.8616 - accuracy: 0.8614 - loss: 0.3262 - val_AUC: 0.9301 - val_Precision: 0.8664 - val_Recall: 0.8522 - val_accuracy: 0.8578 - val_loss: 0.3371\n",
      "Epoch 6/15\n",
      "\u001b[1m240/240\u001b[0m \u001b[32m━━━━━━━━━━━━━━━━━━━━\u001b[0m\u001b[37m\u001b[0m \u001b[1m80s\u001b[0m 308ms/step - AUC: 0.9447 - Precision: 0.8788 - Recall: 0.8651 - accuracy: 0.8727 - loss: 0.2999 - val_AUC: 0.9301 - val_Precision: 0.8950 - val_Recall: 0.8016 - val_accuracy: 0.8510 - val_loss: 0.3485\n",
      "Epoch 7/15\n",
      "\u001b[1m240/240\u001b[0m \u001b[32m━━━━━━━━━━━━━━━━━━━━\u001b[0m\u001b[37m\u001b[0m \u001b[1m76s\u001b[0m 318ms/step - AUC: 0.9500 - Precision: 0.8862 - Recall: 0.8756 - accuracy: 0.8810 - loss: 0.2856 - val_AUC: 0.9309 - val_Precision: 0.8537 - val_Recall: 0.8681 - val_accuracy: 0.8570 - val_loss: 0.3498\n",
      "Epoch 8/15\n",
      "\u001b[1m240/240\u001b[0m \u001b[32m━━━━━━━━━━━━━━━━━━━━\u001b[0m\u001b[37m\u001b[0m \u001b[1m76s\u001b[0m 317ms/step - AUC: 0.9576 - Precision: 0.8935 - Recall: 0.8876 - accuracy: 0.8907 - loss: 0.2629 - val_AUC: 0.9301 - val_Precision: 0.8574 - val_Recall: 0.8609 - val_accuracy: 0.8562 - val_loss: 0.3481\n",
      "\u001b[1m150/150\u001b[0m \u001b[32m━━━━━━━━━━━━━━━━━━━━\u001b[0m\u001b[37m\u001b[0m \u001b[1m12s\u001b[0m 74ms/step\n"
     ]
    },
    {
     "name": "stderr",
     "output_type": "stream",
     "text": [
      "WARNING:absl:You are saving your model as an HDF5 file via `model.save()` or `keras.saving.save_model(model)`. This file format is considered legacy. We recommend using instead the native Keras format, e.g. `model.save('my_model.keras')` or `keras.saving.save_model(model, 'my_model.keras')`. \n"
     ]
    },
    {
     "name": "stdout",
     "output_type": "stream",
     "text": [
      "\n",
      "📌 LSTM\n",
      "Accuracy:  0.8529\n",
      "Precision: 0.8562\n",
      "Recall:    0.8483\n",
      "F1-score:  0.8522\n",
      "ROC AUC:   0.9295\n",
      "\n",
      "Classification Report:\n",
      "               precision    recall  f1-score   support\n",
      "\n",
      "           0       0.85      0.86      0.85      2400\n",
      "           1       0.86      0.85      0.85      2400\n",
      "\n",
      "    accuracy                           0.85      4800\n",
      "   macro avg       0.85      0.85      0.85      4800\n",
      "weighted avg       0.85      0.85      0.85      4800\n",
      "\n",
      "✅ Model saved to: results/bilstm_model/bilstm_model.h5\n"
     ]
    }
   ],
   "source": [
    "run_pipeline_bilstm_from_single_file(\"BAN-PL_raw.csv\", max_len=50)"
   ]
  },
  {
   "cell_type": "code",
   "execution_count": 9,
   "metadata": {
    "colab": {
     "base_uri": "https://localhost:8080/"
    },
    "executionInfo": {
     "elapsed": 856471,
     "status": "ok",
     "timestamp": 1748550464725,
     "user": {
      "displayName": "Patryk Zabawa",
      "userId": "16987957885557368905"
     },
     "user_tz": -120
    },
    "id": "f9E9YC0OKIdp",
    "outputId": "12a4e5b5-94c1-407a-90ad-fdb0cbdfc35b"
   },
   "outputs": [
    {
     "name": "stdout",
     "output_type": "stream",
     "text": [
      "Train shape: (19178, 50, 300), Test shape: (4795, 50, 300)\n",
      "Class distribution: [11994 11979]\n",
      "Epoch 1/15\n",
      "\u001b[1m240/240\u001b[0m \u001b[32m━━━━━━━━━━━━━━━━━━━━\u001b[0m\u001b[37m\u001b[0m \u001b[1m87s\u001b[0m 336ms/step - AUC: 0.7821 - Precision: 0.7315 - Recall: 0.6629 - accuracy: 0.7131 - loss: 0.5654 - val_AUC: 0.8794 - val_Precision: 0.8176 - val_Recall: 0.7733 - val_accuracy: 0.7967 - val_loss: 0.4402\n",
      "Epoch 2/15\n",
      "\u001b[1m240/240\u001b[0m \u001b[32m━━━━━━━━━━━━━━━━━━━━\u001b[0m\u001b[37m\u001b[0m \u001b[1m75s\u001b[0m 307ms/step - AUC: 0.8853 - Precision: 0.8104 - Recall: 0.7928 - accuracy: 0.8065 - loss: 0.4292 - val_AUC: 0.8918 - val_Precision: 0.8332 - val_Recall: 0.7794 - val_accuracy: 0.8081 - val_loss: 0.4175\n",
      "Epoch 3/15\n",
      "\u001b[1m240/240\u001b[0m \u001b[32m━━━━━━━━━━━━━━━━━━━━\u001b[0m\u001b[37m\u001b[0m \u001b[1m85s\u001b[0m 321ms/step - AUC: 0.9015 - Precision: 0.8282 - Recall: 0.8165 - accuracy: 0.8264 - loss: 0.3999 - val_AUC: 0.9049 - val_Precision: 0.8365 - val_Recall: 0.8193 - val_accuracy: 0.8264 - val_loss: 0.3906\n",
      "Epoch 4/15\n",
      "\u001b[1m240/240\u001b[0m \u001b[32m━━━━━━━━━━━━━━━━━━━━\u001b[0m\u001b[37m\u001b[0m \u001b[1m78s\u001b[0m 304ms/step - AUC: 0.9139 - Precision: 0.8464 - Recall: 0.8261 - accuracy: 0.8415 - loss: 0.3736 - val_AUC: 0.9089 - val_Precision: 0.8483 - val_Recall: 0.7958 - val_accuracy: 0.8235 - val_loss: 0.3850\n",
      "Epoch 5/15\n",
      "\u001b[1m240/240\u001b[0m \u001b[32m━━━━━━━━━━━━━━━━━━━━\u001b[0m\u001b[37m\u001b[0m \u001b[1m85s\u001b[0m 315ms/step - AUC: 0.9241 - Precision: 0.8576 - Recall: 0.8381 - accuracy: 0.8526 - loss: 0.3518 - val_AUC: 0.9153 - val_Precision: 0.8462 - val_Recall: 0.8306 - val_accuracy: 0.8368 - val_loss: 0.3698\n",
      "Epoch 6/15\n",
      "\u001b[1m240/240\u001b[0m \u001b[32m━━━━━━━━━━━━━━━━━━━━\u001b[0m\u001b[37m\u001b[0m \u001b[1m84s\u001b[0m 325ms/step - AUC: 0.9316 - Precision: 0.8643 - Recall: 0.8470 - accuracy: 0.8584 - loss: 0.3339 - val_AUC: 0.9154 - val_Precision: 0.8534 - val_Recall: 0.8193 - val_accuracy: 0.8363 - val_loss: 0.3706\n",
      "Epoch 7/15\n",
      "\u001b[1m240/240\u001b[0m \u001b[32m━━━━━━━━━━━━━━━━━━━━\u001b[0m\u001b[37m\u001b[0m \u001b[1m80s\u001b[0m 315ms/step - AUC: 0.9418 - Precision: 0.8810 - Recall: 0.8589 - accuracy: 0.8714 - loss: 0.3109 - val_AUC: 0.9179 - val_Precision: 0.8339 - val_Recall: 0.8608 - val_accuracy: 0.8418 - val_loss: 0.3685\n",
      "Epoch 8/15\n",
      "\u001b[1m240/240\u001b[0m \u001b[32m━━━━━━━━━━━━━━━━━━━━\u001b[0m\u001b[37m\u001b[0m \u001b[1m86s\u001b[0m 329ms/step - AUC: 0.9499 - Precision: 0.8881 - Recall: 0.8739 - accuracy: 0.8819 - loss: 0.2866 - val_AUC: 0.9156 - val_Precision: 0.8626 - val_Recall: 0.8096 - val_accuracy: 0.8373 - val_loss: 0.3788\n",
      "Epoch 9/15\n",
      "\u001b[1m240/240\u001b[0m \u001b[32m━━━━━━━━━━━━━━━━━━━━\u001b[0m\u001b[37m\u001b[0m \u001b[1m79s\u001b[0m 318ms/step - AUC: 0.9577 - Precision: 0.8922 - Recall: 0.8796 - accuracy: 0.8872 - loss: 0.2650 - val_AUC: 0.9172 - val_Precision: 0.8447 - val_Recall: 0.8547 - val_accuracy: 0.8459 - val_loss: 0.3756\n",
      "Epoch 10/15\n",
      "\u001b[1m240/240\u001b[0m \u001b[32m━━━━━━━━━━━━━━━━━━━━\u001b[0m\u001b[37m\u001b[0m \u001b[1m72s\u001b[0m 299ms/step - AUC: 0.9606 - Precision: 0.8980 - Recall: 0.8907 - accuracy: 0.8949 - loss: 0.2559 - val_AUC: 0.9118 - val_Precision: 0.8478 - val_Recall: 0.8265 - val_accuracy: 0.8360 - val_loss: 0.4039\n",
      "\u001b[1m150/150\u001b[0m \u001b[32m━━━━━━━━━━━━━━━━━━━━\u001b[0m\u001b[37m\u001b[0m \u001b[1m13s\u001b[0m 84ms/step\n"
     ]
    },
    {
     "name": "stderr",
     "output_type": "stream",
     "text": [
      "WARNING:absl:You are saving your model as an HDF5 file via `model.save()` or `keras.saving.save_model(model)`. This file format is considered legacy. We recommend using instead the native Keras format, e.g. `model.save('my_model.keras')` or `keras.saving.save_model(model, 'my_model.keras')`. \n"
     ]
    },
    {
     "name": "stdout",
     "output_type": "stream",
     "text": [
      "\n",
      "📌 LSTM\n",
      "Accuracy:  0.8359\n",
      "Precision: 0.8219\n",
      "Recall:    0.8573\n",
      "F1-score:  0.8392\n",
      "ROC AUC:   0.9113\n",
      "\n",
      "Classification Report:\n",
      "               precision    recall  f1-score   support\n",
      "\n",
      "           0       0.85      0.81      0.83      2399\n",
      "           1       0.82      0.86      0.84      2396\n",
      "\n",
      "    accuracy                           0.84      4795\n",
      "   macro avg       0.84      0.84      0.84      4795\n",
      "weighted avg       0.84      0.84      0.84      4795\n",
      "\n",
      "✅ Model saved to: results/bilstm_model/bilstm_model.h5\n"
     ]
    }
   ],
   "source": [
    "run_pipeline_bilstm_from_single_file(\"BAN-PL_light.csv\", max_len=50)"
   ]
  },
  {
   "cell_type": "code",
   "execution_count": 10,
   "metadata": {
    "colab": {
     "base_uri": "https://localhost:8080/"
    },
    "executionInfo": {
     "elapsed": 837771,
     "status": "ok",
     "timestamp": 1748551531013,
     "user": {
      "displayName": "Patryk Zabawa",
      "userId": "16987957885557368905"
     },
     "user_tz": -120
    },
    "id": "_p6IO-bRKIPo",
    "outputId": "dde97fb0-1615-4c4b-f101-57d730962123"
   },
   "outputs": [
    {
     "name": "stdout",
     "output_type": "stream",
     "text": [
      "Train shape: (19138, 50, 300), Test shape: (4785, 50, 300)\n",
      "Class distribution: [11955 11968]\n",
      "Epoch 1/15\n",
      "\u001b[1m240/240\u001b[0m \u001b[32m━━━━━━━━━━━━━━━━━━━━\u001b[0m\u001b[37m\u001b[0m \u001b[1m86s\u001b[0m 330ms/step - AUC: 0.8018 - Precision: 0.7322 - Recall: 0.7217 - accuracy: 0.7302 - loss: 0.5515 - val_AUC: 0.8790 - val_Precision: 0.8531 - val_Recall: 0.7647 - val_accuracy: 0.8130 - val_loss: 0.4681\n",
      "Epoch 2/15\n",
      "\u001b[1m240/240\u001b[0m \u001b[32m━━━━━━━━━━━━━━━━━━━━\u001b[0m\u001b[37m\u001b[0m \u001b[1m74s\u001b[0m 309ms/step - AUC: 0.8882 - Precision: 0.8183 - Recall: 0.8103 - accuracy: 0.8161 - loss: 0.4270 - val_AUC: 0.8982 - val_Precision: 0.8719 - val_Recall: 0.7504 - val_accuracy: 0.8166 - val_loss: 0.4126\n",
      "Epoch 3/15\n",
      "\u001b[1m240/240\u001b[0m \u001b[32m━━━━━━━━━━━━━━━━━━━━\u001b[0m\u001b[37m\u001b[0m \u001b[1m79s\u001b[0m 327ms/step - AUC: 0.9009 - Precision: 0.8378 - Recall: 0.8003 - accuracy: 0.8236 - loss: 0.4012 - val_AUC: 0.9060 - val_Precision: 0.8082 - val_Recall: 0.8637 - val_accuracy: 0.8260 - val_loss: 0.3963\n",
      "Epoch 4/15\n",
      "\u001b[1m240/240\u001b[0m \u001b[32m━━━━━━━━━━━━━━━━━━━━\u001b[0m\u001b[37m\u001b[0m \u001b[1m82s\u001b[0m 326ms/step - AUC: 0.9153 - Precision: 0.8397 - Recall: 0.8382 - accuracy: 0.8375 - loss: 0.3721 - val_AUC: 0.9126 - val_Precision: 0.8893 - val_Recall: 0.7822 - val_accuracy: 0.8393 - val_loss: 0.3845\n",
      "Epoch 5/15\n",
      "\u001b[1m240/240\u001b[0m \u001b[32m━━━━━━━━━━━━━━━━━━━━\u001b[0m\u001b[37m\u001b[0m \u001b[1m82s\u001b[0m 326ms/step - AUC: 0.9232 - Precision: 0.8611 - Recall: 0.8328 - accuracy: 0.8508 - loss: 0.3532 - val_AUC: 0.9154 - val_Precision: 0.8788 - val_Recall: 0.8068 - val_accuracy: 0.8448 - val_loss: 0.3742\n",
      "Epoch 6/15\n",
      "\u001b[1m240/240\u001b[0m \u001b[32m━━━━━━━━━━━━━━━━━━━━\u001b[0m\u001b[37m\u001b[0m \u001b[1m77s\u001b[0m 320ms/step - AUC: 0.9360 - Precision: 0.8653 - Recall: 0.8563 - accuracy: 0.8631 - loss: 0.3238 - val_AUC: 0.9157 - val_Precision: 0.8611 - val_Recall: 0.8227 - val_accuracy: 0.8420 - val_loss: 0.3690\n",
      "Epoch 7/15\n",
      "\u001b[1m240/240\u001b[0m \u001b[32m━━━━━━━━━━━━━━━━━━━━\u001b[0m\u001b[37m\u001b[0m \u001b[1m85s\u001b[0m 333ms/step - AUC: 0.9423 - Precision: 0.8754 - Recall: 0.8560 - accuracy: 0.8697 - loss: 0.3094 - val_AUC: 0.9184 - val_Precision: 0.8603 - val_Recall: 0.8365 - val_accuracy: 0.8474 - val_loss: 0.3649\n",
      "Epoch 8/15\n",
      "\u001b[1m240/240\u001b[0m \u001b[32m━━━━━━━━━━━━━━━━━━━━\u001b[0m\u001b[37m\u001b[0m \u001b[1m79s\u001b[0m 328ms/step - AUC: 0.9489 - Precision: 0.8811 - Recall: 0.8739 - accuracy: 0.8783 - loss: 0.2898 - val_AUC: 0.9157 - val_Precision: 0.8575 - val_Recall: 0.8421 - val_accuracy: 0.8482 - val_loss: 0.3805\n",
      "Epoch 9/15\n",
      "\u001b[1m240/240\u001b[0m \u001b[32m━━━━━━━━━━━━━━━━━━━━\u001b[0m\u001b[37m\u001b[0m \u001b[1m74s\u001b[0m 306ms/step - AUC: 0.9569 - Precision: 0.8955 - Recall: 0.8836 - accuracy: 0.8915 - loss: 0.2668 - val_AUC: 0.9150 - val_Precision: 0.8576 - val_Recall: 0.8365 - val_accuracy: 0.8459 - val_loss: 0.3830\n",
      "Epoch 10/15\n",
      "\u001b[1m240/240\u001b[0m \u001b[32m━━━━━━━━━━━━━━━━━━━━\u001b[0m\u001b[37m\u001b[0m \u001b[1m87s\u001b[0m 329ms/step - AUC: 0.9620 - Precision: 0.8998 - Recall: 0.8904 - accuracy: 0.8964 - loss: 0.2503 - val_AUC: 0.9075 - val_Precision: 0.8648 - val_Recall: 0.8001 - val_accuracy: 0.8344 - val_loss: 0.3977\n",
      "\u001b[1m150/150\u001b[0m \u001b[32m━━━━━━━━━━━━━━━━━━━━\u001b[0m\u001b[37m\u001b[0m \u001b[1m12s\u001b[0m 79ms/step\n"
     ]
    },
    {
     "name": "stderr",
     "output_type": "stream",
     "text": [
      "WARNING:absl:You are saving your model as an HDF5 file via `model.save()` or `keras.saving.save_model(model)`. This file format is considered legacy. We recommend using instead the native Keras format, e.g. `model.save('my_model.keras')` or `keras.saving.save_model(model, 'my_model.keras')`. \n"
     ]
    },
    {
     "name": "stdout",
     "output_type": "stream",
     "text": [
      "\n",
      "📌 LSTM\n",
      "Accuracy:  0.8387\n",
      "Precision: 0.8463\n",
      "Recall:    0.8279\n",
      "F1-score:  0.8370\n",
      "ROC AUC:   0.9151\n",
      "\n",
      "Classification Report:\n",
      "               precision    recall  f1-score   support\n",
      "\n",
      "           0       0.83      0.85      0.84      2391\n",
      "           1       0.85      0.83      0.84      2394\n",
      "\n",
      "    accuracy                           0.84      4785\n",
      "   macro avg       0.84      0.84      0.84      4785\n",
      "weighted avg       0.84      0.84      0.84      4785\n",
      "\n",
      "✅ Model saved to: results/bilstm_model/bilstm_model.h5\n"
     ]
    }
   ],
   "source": [
    "run_pipeline_bilstm_from_single_file(\"BAN-PL_full.csv\", max_len=50)"
   ]
  }
 ],
 "metadata": {
  "colab": {
   "authorship_tag": "ABX9TyOhDTQ3gGrXvTamayjip7kK",
   "provenance": []
  },
  "kernelspec": {
   "display_name": "Python 3",
   "name": "python3"
  },
  "language_info": {
   "name": "python"
  }
 },
 "nbformat": 4,
 "nbformat_minor": 0
}
