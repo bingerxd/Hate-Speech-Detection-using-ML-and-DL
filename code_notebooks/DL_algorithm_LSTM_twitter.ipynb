{
 "cells": [
  {
   "cell_type": "code",
   "execution_count": 1,
   "metadata": {
    "colab": {
     "base_uri": "https://localhost:8080/"
    },
    "executionInfo": {
     "elapsed": 102038,
     "status": "ok",
     "timestamp": 1748542954141,
     "user": {
      "displayName": "Patryk Zabawa",
      "userId": "16987957885557368905"
     },
     "user_tz": -120
    },
    "id": "daB8cEp7hTXD",
    "outputId": "aafc1067-c4fe-4448-fe9b-60d3d500ad81"
   },
   "outputs": [
    {
     "name": "stdout",
     "output_type": "stream",
     "text": [
      "\u001b[?25l     \u001b[90m━━━━━━━━━━━━━━━━━━━━━━━━━━━━━━━━━━━━━━━━\u001b[0m \u001b[32m0.0/73.4 kB\u001b[0m \u001b[31m?\u001b[0m eta \u001b[36m-:--:--\u001b[0m\r\u001b[2K     \u001b[90m━━━━━━━━━━━━━━━━━━━━━━━━━━━━━━━━━━━━━━━━\u001b[0m \u001b[32m73.4/73.4 kB\u001b[0m \u001b[31m4.6 MB/s\u001b[0m eta \u001b[36m0:00:00\u001b[0m\n",
      "\u001b[?25h  Installing build dependencies ... \u001b[?25l\u001b[?25hdone\n",
      "  Getting requirements to build wheel ... \u001b[?25l\u001b[?25hdone\n",
      "  Preparing metadata (pyproject.toml) ... \u001b[?25l\u001b[?25hdone\n",
      "  Building wheel for fasttext (pyproject.toml) ... \u001b[?25l\u001b[?25hdone\n"
     ]
    }
   ],
   "source": [
    "!pip install fasttext seaborn --quiet\n",
    "\n",
    "import numpy as np\n",
    "import pandas as pd\n",
    "import matplotlib.pyplot as plt\n",
    "import seaborn as sns\n",
    "\n",
    "import fasttext\n",
    "import fasttext.util\n",
    "import os\n",
    "from sklearn.model_selection import train_test_split\n",
    "from sklearn.metrics import (\n",
    "    accuracy_score, precision_score, recall_score,\n",
    "    f1_score, roc_auc_score, confusion_matrix,\n",
    "    classification_report, roc_curve\n",
    ")\n",
    "from sklearn.utils import class_weight\n",
    "from tensorflow.keras.models import Sequential\n",
    "from tensorflow.keras.layers import LSTM, Bidirectional, Dense, Dropout, Masking, Input\n",
    "from tensorflow.keras.callbacks import EarlyStopping\n",
    "from tensorflow.keras.preprocessing.text import text_to_word_sequence\n",
    "from tensorflow.keras.preprocessing.sequence import pad_sequences"
   ]
  },
  {
   "cell_type": "code",
   "execution_count": null,
   "metadata": {
    "colab": {
     "base_uri": "https://localhost:8080/",
     "height": 73
    },
    "executionInfo": {
     "elapsed": 1060131,
     "status": "ok",
     "timestamp": 1748544014427,
     "user": {
      "displayName": "Patryk Zabawa",
      "userId": "16987957885557368905"
     },
     "user_tz": -120
    },
    "id": "2pmDCu03hcl0",
    "outputId": "03f01eb6-85c1-4482-ceb0-6680131bfbe8"
   },
   "outputs": [
    {
     "name": "stdout",
     "output_type": "stream",
     "text": [
      "Downloading https://dl.fbaipublicfiles.com/fasttext/vectors-crawl/cc.pl.300.bin.gz\n",
      "\n"
     ]
    },
    {
     "data": {
      "application/vnd.google.colaboratory.intrinsic+json": {
       "type": "string"
      },
      "text/plain": [
       "'cc.pl.300.bin'"
      ]
     },
     "execution_count": 2,
     "metadata": {},
     "output_type": "execute_result"
    }
   ],
   "source": [
    "fasttext.util.download_model('pl', if_exists='ignore')"
   ]
  },
  {
   "cell_type": "code",
   "execution_count": 3,
   "metadata": {
    "executionInfo": {
     "elapsed": 5,
     "status": "ok",
     "timestamp": 1748544014436,
     "user": {
      "displayName": "Patryk Zabawa",
      "userId": "16987957885557368905"
     },
     "user_tz": -120
    },
    "id": "QRJChpvdhf35"
   },
   "outputs": [],
   "source": [
    "ft_model = fasttext.load_model('cc.pl.300.bin')"
   ]
  },
  {
   "cell_type": "code",
   "execution_count": 4,
   "metadata": {
    "executionInfo": {
     "elapsed": 3,
     "status": "ok",
     "timestamp": 1748544014444,
     "user": {
      "displayName": "Patryk Zabawa",
      "userId": "16987957885557368905"
     },
     "user_tz": -120
    },
    "id": "f7RK_1lqhrUQ"
   },
   "outputs": [],
   "source": [
    "def get_sequence_ft_vectors(text, max_len=25):\n",
    "    words = text_to_word_sequence(str(text), lower=False)\n",
    "    vectors = [ft_model.get_word_vector(word) for word in words[:max_len]]\n",
    "    return vectors"
   ]
  },
  {
   "cell_type": "code",
   "execution_count": 5,
   "metadata": {
    "executionInfo": {
     "elapsed": 3,
     "status": "ok",
     "timestamp": 1748544014451,
     "user": {
      "displayName": "Patryk Zabawa",
      "userId": "16987957885557368905"
     },
     "user_tz": -120
    },
    "id": "BuvG3IqrhvRF"
   },
   "outputs": [],
   "source": [
    "def prepare_sequence_data(train_path, test_path, max_len=25):\n",
    "    train_df = pd.read_csv(train_path)\n",
    "    test_df = pd.read_csv(test_path)\n",
    "\n",
    "    X_train_seq = [get_sequence_ft_vectors(text, max_len=max_len) for text in train_df['text']]\n",
    "    X_test_seq = [get_sequence_ft_vectors(text, max_len=max_len) for text in test_df['text']]\n",
    "\n",
    "    X_train_pad = pad_sequences(X_train_seq, maxlen=max_len, dtype='float32', padding='post', truncating='post')\n",
    "    X_test_pad = pad_sequences(X_test_seq, maxlen=max_len, dtype='float32', padding='post', truncating='post')\n",
    "\n",
    "    y_train = train_df['label'].values\n",
    "    y_test = test_df['label'].values\n",
    "\n",
    "    print(f\"Train shape: {X_train_pad.shape}, Test shape: {X_test_pad.shape}\")\n",
    "    print(f\"Class distribution in train: {np.bincount(y_train)}\")\n",
    "\n",
    "    return X_train_pad, y_train, X_test_pad, y_test"
   ]
  },
  {
   "cell_type": "code",
   "execution_count": null,
   "metadata": {
    "executionInfo": {
     "elapsed": 16,
     "status": "ok",
     "timestamp": 1748544397911,
     "user": {
      "displayName": "Patryk Zabawa",
      "userId": "16987957885557368905"
     },
     "user_tz": -120
    },
    "id": "6USp2h_JiGAS"
   },
   "outputs": [],
   "source": [
    "def train_and_evaluate_bilstm(X_train, y_train, X_test, y_test,\n",
    "                               title=\"LSTM\",\n",
    "                               max_len=25, embedding_dim=300,\n",
    "                               lstm_units=64, batch_size=32, epochs=15,\n",
    "                               save_dir=\"results/bilstm_model\"):\n",
    "\n",
    "    os.makedirs(save_dir, exist_ok=True)\n",
    "\n",
    "    model = Sequential()\n",
    "    model.add(Input(shape=(max_len, embedding_dim)))\n",
    "    model.add(Masking(mask_value=0.0))\n",
    "    model.add(Bidirectional(LSTM(lstm_units)))\n",
    "    model.add(Dropout(0.3))\n",
    "    model.add(Dense(1, activation='sigmoid'))\n",
    "\n",
    "    model.compile(optimizer='adam', loss='binary_crossentropy', metrics=['accuracy', 'Precision', 'Recall', 'AUC'])\n",
    "\n",
    "    early_stop = EarlyStopping(monitor='val_loss', patience=3, restore_best_weights=True)\n",
    "\n",
    "    class_weights = class_weight.compute_class_weight(\n",
    "        class_weight='balanced',\n",
    "        classes=np.unique(y_train),\n",
    "        y=y_train\n",
    "    )\n",
    "    class_weights = dict(enumerate(class_weights))\n",
    "\n",
    "    history = model.fit(\n",
    "        X_train, y_train,\n",
    "        validation_split=0.2,\n",
    "        epochs=epochs,\n",
    "        batch_size=batch_size,\n",
    "        callbacks=[early_stop],\n",
    "        verbose=1,\n",
    "        class_weight=class_weights\n",
    "    )\n",
    "\n",
    "    y_proba = model.predict(X_test).ravel()\n",
    "    y_pred = (y_proba > 0.5).astype(int)\n",
    "\n",
    "    acc = accuracy_score(y_test, y_pred)\n",
    "    prec = precision_score(y_test, y_pred)\n",
    "    rec = recall_score(y_test, y_pred)\n",
    "    f1 = f1_score(y_test, y_pred)\n",
    "    auc = roc_auc_score(y_test, y_proba)\n",
    "\n",
    "    print(f\"\\n📌 {title}\")\n",
    "    print(f\"Accuracy:  {acc:.4f}\")\n",
    "    print(f\"Precision: {prec:.4f}\")\n",
    "    print(f\"Recall:    {rec:.4f}\")\n",
    "    print(f\"F1-score:  {f1:.4f}\")\n",
    "    print(f\"ROC AUC:   {auc:.4f}\")\n",
    "    print(\"\\nClassification Report:\\n\", classification_report(y_test, y_pred, zero_division=0))\n",
    "\n",
    "    model_path = os.path.join(save_dir, \"bilstm_model.h5\")\n",
    "    model.save(model_path)\n",
    "    print(f\"✅ Model saved to: {model_path}\")\n",
    "\n",
    "    cm = confusion_matrix(y_test, y_pred)\n",
    "    plt.figure()\n",
    "    sns.heatmap(cm, annot=True, fmt='d', cmap='Purples')\n",
    "    plt.title(\"Confusion Matrix for LSTM - The Best Variant\")\n",
    "    plt.xlabel(\"Prediction\")\n",
    "    plt.ylabel(\"Actual\")\n",
    "    cm_path = os.path.join(save_dir, \"confusion_matrix.png\")\n",
    "    plt.savefig(cm_path)\n",
    "    plt.close()\n",
    "    print(f\"🖼️ Confusion matrix saved to: {cm_path}\")\n",
    "\n",
    "    fpr, tpr, _ = roc_curve(y_test, y_proba)\n",
    "    plt.figure()\n",
    "    plt.plot(fpr, tpr, label=f'AUC = {auc:.4f}')\n",
    "    plt.plot([0, 1], [0, 1], 'k--')\n",
    "    plt.xlabel(\"False Positive Rate\")\n",
    "    plt.ylabel(\"True Positive Rate\")\n",
    "    plt.title(\"ROC Curve for LSTM - The Best Varian\")\n",
    "    plt.legend()\n",
    "    plt.grid(True)\n",
    "    roc_path = os.path.join(save_dir, \"roc_curve.png\")\n",
    "    plt.savefig(roc_path)\n",
    "    plt.close()\n",
    "    print(f\"🖼️ ROC curve saved to: {roc_path}\")"
   ]
  },
  {
   "cell_type": "code",
   "execution_count": null,
   "metadata": {
    "executionInfo": {
     "elapsed": 1,
     "status": "ok",
     "timestamp": 1748544400409,
     "user": {
      "displayName": "Patryk Zabawa",
      "userId": "16987957885557368905"
     },
     "user_tz": -120
    },
    "id": "H40WhxNoiPcN"
   },
   "outputs": [],
   "source": [
    "def run_pipeline_bilstm(train_path, test_path, max_len=25):\n",
    "    X_train, y_train, X_test, y_test = prepare_sequence_data(train_path, test_path, max_len=max_len)\n",
    "    train_and_evaluate_bilstm(X_train, y_train, X_test, y_test)"
   ]
  },
  {
   "cell_type": "code",
   "execution_count": 19,
   "metadata": {
    "colab": {
     "base_uri": "https://localhost:8080/"
    },
    "executionInfo": {
     "elapsed": 122209,
     "status": "ok",
     "timestamp": 1748545961028,
     "user": {
      "displayName": "Patryk Zabawa",
      "userId": "16987957885557368905"
     },
     "user_tz": -120
    },
    "id": "wZN90tjRigUY",
    "outputId": "235dc1d7-5683-4d59-cc3f-2545d0942881"
   },
   "outputs": [
    {
     "name": "stdout",
     "output_type": "stream",
     "text": [
      "Train shape: (10041, 20, 300), Test shape: (1000, 20, 300)\n",
      "Class distribution in train: [9190  851]\n",
      "Epoch 1/15\n",
      "\u001b[1m251/251\u001b[0m \u001b[32m━━━━━━━━━━━━━━━━━━━━\u001b[0m\u001b[37m\u001b[0m \u001b[1m21s\u001b[0m 60ms/step - AUC: 0.7093 - Precision: 0.1461 - Recall: 0.5545 - accuracy: 0.7247 - loss: 0.5512 - val_AUC: 0.8340 - val_Precision: 0.6182 - val_Recall: 0.5320 - val_accuracy: 0.8636 - val_loss: 0.3679\n",
      "Epoch 2/15\n",
      "\u001b[1m251/251\u001b[0m \u001b[32m━━━━━━━━━━━━━━━━━━━━\u001b[0m\u001b[37m\u001b[0m \u001b[1m15s\u001b[0m 60ms/step - AUC: 0.8993 - Precision: 0.2791 - Recall: 0.7973 - accuracy: 0.8501 - loss: 0.3616 - val_AUC: 0.8569 - val_Precision: 0.5477 - val_Recall: 0.6337 - val_accuracy: 0.8477 - val_loss: 0.3702\n",
      "Epoch 3/15\n",
      "\u001b[1m251/251\u001b[0m \u001b[32m━━━━━━━━━━━━━━━━━━━━\u001b[0m\u001b[37m\u001b[0m \u001b[1m14s\u001b[0m 57ms/step - AUC: 0.9172 - Precision: 0.3014 - Recall: 0.8148 - accuracy: 0.8659 - loss: 0.3186 - val_AUC: 0.8321 - val_Precision: 0.6496 - val_Recall: 0.4797 - val_accuracy: 0.8666 - val_loss: 0.3490\n",
      "Epoch 4/15\n",
      "\u001b[1m251/251\u001b[0m \u001b[32m━━━━━━━━━━━━━━━━━━━━\u001b[0m\u001b[37m\u001b[0m \u001b[1m20s\u001b[0m 54ms/step - AUC: 0.9340 - Precision: 0.3201 - Recall: 0.8688 - accuracy: 0.8771 - loss: 0.2834 - val_AUC: 0.8302 - val_Precision: 0.5967 - val_Recall: 0.5291 - val_accuracy: 0.8581 - val_loss: 0.3500\n",
      "Epoch 5/15\n",
      "\u001b[1m251/251\u001b[0m \u001b[32m━━━━━━━━━━━━━━━━━━━━\u001b[0m\u001b[37m\u001b[0m \u001b[1m20s\u001b[0m 54ms/step - AUC: 0.9499 - Precision: 0.3494 - Recall: 0.8803 - accuracy: 0.8846 - loss: 0.2533 - val_AUC: 0.8271 - val_Precision: 0.6333 - val_Recall: 0.4971 - val_accuracy: 0.8646 - val_loss: 0.3612\n",
      "Epoch 6/15\n",
      "\u001b[1m251/251\u001b[0m \u001b[32m━━━━━━━━━━━━━━━━━━━━\u001b[0m\u001b[37m\u001b[0m \u001b[1m21s\u001b[0m 56ms/step - AUC: 0.9621 - Precision: 0.3525 - Recall: 0.9069 - accuracy: 0.8930 - loss: 0.2125 - val_AUC: 0.8284 - val_Precision: 0.5414 - val_Recall: 0.5698 - val_accuracy: 0.8437 - val_loss: 0.3877\n",
      "\u001b[1m32/32\u001b[0m \u001b[32m━━━━━━━━━━━━━━━━━━━━\u001b[0m\u001b[37m\u001b[0m \u001b[1m1s\u001b[0m 31ms/step\n"
     ]
    },
    {
     "name": "stderr",
     "output_type": "stream",
     "text": [
      "WARNING:absl:You are saving your model as an HDF5 file via `model.save()` or `keras.saving.save_model(model)`. This file format is considered legacy. We recommend using instead the native Keras format, e.g. `model.save('my_model.keras')` or `keras.saving.save_model(model, 'my_model.keras')`. \n"
     ]
    },
    {
     "name": "stdout",
     "output_type": "stream",
     "text": [
      "\n",
      "📌 LSTM\n",
      "Accuracy:  0.9010\n",
      "Precision: 0.6357\n",
      "Recall:    0.6119\n",
      "F1-score:  0.6236\n",
      "ROC AUC:   0.9023\n",
      "\n",
      "Classification Report:\n",
      "               precision    recall  f1-score   support\n",
      "\n",
      "           0       0.94      0.95      0.94       866\n",
      "           1       0.64      0.61      0.62       134\n",
      "\n",
      "    accuracy                           0.90      1000\n",
      "   macro avg       0.79      0.78      0.78      1000\n",
      "weighted avg       0.90      0.90      0.90      1000\n",
      "\n",
      "✅ Model saved to: results/bilstm_model/bilstm_model.h5\n",
      "🖼️ Confusion matrix saved to: results/bilstm_model/confusion_matrix.png\n",
      "🖼️ ROC curve saved to: results/bilstm_model/roc_curve.png\n"
     ]
    }
   ],
   "source": [
    "run_pipeline_bilstm(\"v1_training_variant1_raw.csv\", \"v1_test_variant1_raw.csv\")"
   ]
  },
  {
   "cell_type": "code",
   "execution_count": 25,
   "metadata": {
    "colab": {
     "base_uri": "https://localhost:8080/"
    },
    "executionInfo": {
     "elapsed": 143151,
     "status": "ok",
     "timestamp": 1748547288835,
     "user": {
      "displayName": "Patryk Zabawa",
      "userId": "16987957885557368905"
     },
     "user_tz": -120
    },
    "id": "hqWR_hdWqRNQ",
    "outputId": "2791a6a5-1e88-4817-c735-8a65f457e042"
   },
   "outputs": [
    {
     "name": "stdout",
     "output_type": "stream",
     "text": [
      "Train shape: (10041, 20, 300), Test shape: (1000, 20, 300)\n",
      "Class distribution in train: [9190  851]\n",
      "Epoch 1/15\n",
      "\u001b[1m251/251\u001b[0m \u001b[32m━━━━━━━━━━━━━━━━━━━━\u001b[0m\u001b[37m\u001b[0m \u001b[1m22s\u001b[0m 66ms/step - AUC: 0.6651 - Precision: 0.1467 - Recall: 0.2884 - accuracy: 0.8599 - loss: 0.5467 - val_AUC: 0.7981 - val_Precision: 0.5657 - val_Recall: 0.4884 - val_accuracy: 0.8482 - val_loss: 0.3919\n",
      "Epoch 2/15\n",
      "\u001b[1m251/251\u001b[0m \u001b[32m━━━━━━━━━━━━━━━━━━━━\u001b[0m\u001b[37m\u001b[0m \u001b[1m14s\u001b[0m 54ms/step - AUC: 0.8865 - Precision: 0.2714 - Recall: 0.7803 - accuracy: 0.8531 - loss: 0.3757 - val_AUC: 0.8399 - val_Precision: 0.4944 - val_Recall: 0.6424 - val_accuracy: 0.8263 - val_loss: 0.4122\n",
      "Epoch 3/15\n",
      "\u001b[1m251/251\u001b[0m \u001b[32m━━━━━━━━━━━━━━━━━━━━\u001b[0m\u001b[37m\u001b[0m \u001b[1m20s\u001b[0m 54ms/step - AUC: 0.9250 - Precision: 0.3071 - Recall: 0.8490 - accuracy: 0.8589 - loss: 0.3205 - val_AUC: 0.8235 - val_Precision: 0.5173 - val_Recall: 0.5640 - val_accuracy: 0.8352 - val_loss: 0.3835\n",
      "Epoch 4/15\n",
      "\u001b[1m251/251\u001b[0m \u001b[32m━━━━━━━━━━━━━━━━━━━━\u001b[0m\u001b[37m\u001b[0m \u001b[1m14s\u001b[0m 55ms/step - AUC: 0.9306 - Precision: 0.2959 - Recall: 0.8493 - accuracy: 0.8721 - loss: 0.2881 - val_AUC: 0.8169 - val_Precision: 0.6160 - val_Recall: 0.4709 - val_accuracy: 0.8591 - val_loss: 0.3692\n",
      "Epoch 5/15\n",
      "\u001b[1m251/251\u001b[0m \u001b[32m━━━━━━━━━━━━━━━━━━━━\u001b[0m\u001b[37m\u001b[0m \u001b[1m20s\u001b[0m 54ms/step - AUC: 0.9472 - Precision: 0.3221 - Recall: 0.8547 - accuracy: 0.8811 - loss: 0.2465 - val_AUC: 0.8236 - val_Precision: 0.5060 - val_Recall: 0.6163 - val_accuracy: 0.8313 - val_loss: 0.3958\n",
      "Epoch 6/15\n",
      "\u001b[1m251/251\u001b[0m \u001b[32m━━━━━━━━━━━━━━━━━━━━\u001b[0m\u001b[37m\u001b[0m \u001b[1m21s\u001b[0m 54ms/step - AUC: 0.9580 - Precision: 0.3639 - Recall: 0.9107 - accuracy: 0.8876 - loss: 0.2358 - val_AUC: 0.8052 - val_Precision: 0.6828 - val_Recall: 0.4506 - val_accuracy: 0.8701 - val_loss: 0.4462\n",
      "Epoch 7/15\n",
      "\u001b[1m251/251\u001b[0m \u001b[32m━━━━━━━━━━━━━━━━━━━━\u001b[0m\u001b[37m\u001b[0m \u001b[1m20s\u001b[0m 52ms/step - AUC: 0.9673 - Precision: 0.4225 - Recall: 0.9176 - accuracy: 0.9100 - loss: 0.2007 - val_AUC: 0.8176 - val_Precision: 0.5339 - val_Recall: 0.5727 - val_accuracy: 0.8412 - val_loss: 0.4097\n",
      "\u001b[1m32/32\u001b[0m \u001b[32m━━━━━━━━━━━━━━━━━━━━\u001b[0m\u001b[37m\u001b[0m \u001b[1m1s\u001b[0m 32ms/step\n"
     ]
    },
    {
     "name": "stderr",
     "output_type": "stream",
     "text": [
      "WARNING:absl:You are saving your model as an HDF5 file via `model.save()` or `keras.saving.save_model(model)`. This file format is considered legacy. We recommend using instead the native Keras format, e.g. `model.save('my_model.keras')` or `keras.saving.save_model(model, 'my_model.keras')`. \n"
     ]
    },
    {
     "name": "stdout",
     "output_type": "stream",
     "text": [
      "\n",
      "📌 LSTM\n",
      "Accuracy:  0.8870\n",
      "Precision: 0.5868\n",
      "Recall:    0.5299\n",
      "F1-score:  0.5569\n",
      "ROC AUC:   0.8947\n",
      "\n",
      "Classification Report:\n",
      "               precision    recall  f1-score   support\n",
      "\n",
      "           0       0.93      0.94      0.94       866\n",
      "           1       0.59      0.53      0.56       134\n",
      "\n",
      "    accuracy                           0.89      1000\n",
      "   macro avg       0.76      0.74      0.75      1000\n",
      "weighted avg       0.88      0.89      0.88      1000\n",
      "\n",
      "✅ Model saved to: results/bilstm_model/bilstm_model.h5\n",
      "🖼️ Confusion matrix saved to: results/bilstm_model/confusion_matrix.png\n",
      "🖼️ ROC curve saved to: results/bilstm_model/roc_curve.png\n"
     ]
    }
   ],
   "source": [
    "run_pipeline_bilstm(\"v1_training_variant2_light.csv\", \"v1_test_variant2_light.csv\")"
   ]
  },
  {
   "cell_type": "code",
   "execution_count": 29,
   "metadata": {
    "colab": {
     "base_uri": "https://localhost:8080/"
    },
    "executionInfo": {
     "elapsed": 121374,
     "status": "ok",
     "timestamp": 1748548200405,
     "user": {
      "displayName": "Patryk Zabawa",
      "userId": "16987957885557368905"
     },
     "user_tz": -120
    },
    "id": "y-VfGWxbqSkQ",
    "outputId": "6a0544e6-3748-462f-87c2-1f964219dbdb"
   },
   "outputs": [
    {
     "name": "stdout",
     "output_type": "stream",
     "text": [
      "Train shape: (10008, 20, 300), Test shape: (999, 20, 300)\n",
      "Class distribution in train: [9157  851]\n",
      "Epoch 1/15\n",
      "\u001b[1m251/251\u001b[0m \u001b[32m━━━━━━━━━━━━━━━━━━━━\u001b[0m\u001b[37m\u001b[0m \u001b[1m24s\u001b[0m 67ms/step - AUC: 0.7138 - Precision: 0.1767 - Recall: 0.3825 - accuracy: 0.8523 - loss: 0.5466 - val_AUC: 0.8014 - val_Precision: 0.4708 - val_Recall: 0.6337 - val_accuracy: 0.8147 - val_loss: 0.4584\n",
      "Epoch 2/15\n",
      "\u001b[1m251/251\u001b[0m \u001b[32m━━━━━━━━━━━━━━━━━━━━\u001b[0m\u001b[37m\u001b[0m \u001b[1m16s\u001b[0m 62ms/step - AUC: 0.8667 - Precision: 0.2150 - Recall: 0.7755 - accuracy: 0.8124 - loss: 0.4058 - val_AUC: 0.8153 - val_Precision: 0.5640 - val_Recall: 0.5378 - val_accuracy: 0.8492 - val_loss: 0.3924\n",
      "Epoch 3/15\n",
      "\u001b[1m251/251\u001b[0m \u001b[32m━━━━━━━━━━━━━━━━━━━━\u001b[0m\u001b[37m\u001b[0m \u001b[1m22s\u001b[0m 67ms/step - AUC: 0.8896 - Precision: 0.2662 - Recall: 0.7862 - accuracy: 0.8405 - loss: 0.3860 - val_AUC: 0.8188 - val_Precision: 0.6185 - val_Recall: 0.4855 - val_accuracy: 0.8601 - val_loss: 0.3703\n",
      "Epoch 4/15\n",
      "\u001b[1m251/251\u001b[0m \u001b[32m━━━━━━━━━━━━━━━━━━━━\u001b[0m\u001b[37m\u001b[0m \u001b[1m19s\u001b[0m 61ms/step - AUC: 0.9163 - Precision: 0.2954 - Recall: 0.8118 - accuracy: 0.8782 - loss: 0.3097 - val_AUC: 0.8455 - val_Precision: 0.5202 - val_Recall: 0.6366 - val_accuracy: 0.8367 - val_loss: 0.3826\n",
      "Epoch 5/15\n",
      "\u001b[1m251/251\u001b[0m \u001b[32m━━━━━━━━━━━━━━━━━━━━\u001b[0m\u001b[37m\u001b[0m \u001b[1m15s\u001b[0m 61ms/step - AUC: 0.9310 - Precision: 0.3185 - Recall: 0.8561 - accuracy: 0.8681 - loss: 0.3044 - val_AUC: 0.7901 - val_Precision: 0.6564 - val_Recall: 0.4331 - val_accuracy: 0.8636 - val_loss: 0.4554\n",
      "Epoch 6/15\n",
      "\u001b[1m251/251\u001b[0m \u001b[32m━━━━━━━━━━━━━━━━━━━━\u001b[0m\u001b[37m\u001b[0m \u001b[1m20s\u001b[0m 61ms/step - AUC: 0.9341 - Precision: 0.3188 - Recall: 0.8730 - accuracy: 0.8760 - loss: 0.2893 - val_AUC: 0.8349 - val_Precision: 0.5623 - val_Recall: 0.5901 - val_accuracy: 0.8506 - val_loss: 0.3816\n",
      "\u001b[1m32/32\u001b[0m \u001b[32m━━━━━━━━━━━━━━━━━━━━\u001b[0m\u001b[37m\u001b[0m \u001b[1m1s\u001b[0m 32ms/step\n"
     ]
    },
    {
     "name": "stderr",
     "output_type": "stream",
     "text": [
      "WARNING:absl:You are saving your model as an HDF5 file via `model.save()` or `keras.saving.save_model(model)`. This file format is considered legacy. We recommend using instead the native Keras format, e.g. `model.save('my_model.keras')` or `keras.saving.save_model(model, 'my_model.keras')`. \n"
     ]
    },
    {
     "name": "stdout",
     "output_type": "stream",
     "text": [
      "\n",
      "📌 LSTM\n",
      "Accuracy:  0.8909\n",
      "Precision: 0.6050\n",
      "Recall:    0.5373\n",
      "F1-score:  0.5692\n",
      "ROC AUC:   0.8566\n",
      "\n",
      "Classification Report:\n",
      "               precision    recall  f1-score   support\n",
      "\n",
      "           0       0.93      0.95      0.94       865\n",
      "           1       0.61      0.54      0.57       134\n",
      "\n",
      "    accuracy                           0.89       999\n",
      "   macro avg       0.77      0.74      0.75       999\n",
      "weighted avg       0.89      0.89      0.89       999\n",
      "\n",
      "✅ Model saved to: results/bilstm_model/bilstm_model.h5\n",
      "🖼️ Confusion matrix saved to: results/bilstm_model/confusion_matrix.png\n",
      "🖼️ ROC curve saved to: results/bilstm_model/roc_curve.png\n"
     ]
    }
   ],
   "source": [
    "run_pipeline_bilstm(\"v1_training_variant3_full.csv\", \"v1_test_variant3_full.csv\")"
   ]
  }
 ],
 "metadata": {
  "colab": {
   "authorship_tag": "ABX9TyNZk5GnRFwjhbT7GU15oW6y",
   "provenance": []
  },
  "kernelspec": {
   "display_name": "Python 3",
   "name": "python3"
  },
  "language_info": {
   "name": "python"
  }
 },
 "nbformat": 4,
 "nbformat_minor": 0
}
